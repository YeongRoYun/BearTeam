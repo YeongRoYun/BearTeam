{
 "cells": [
  {
   "cell_type": "code",
   "execution_count": 3,
   "id": "2e6560ed",
   "metadata": {},
   "outputs": [],
   "source": [
    "import torch\n",
    "import torch.nn as nn\n",
    "import torchvision.transforms as transforms\n",
    "from torchvision.datasets import VOCDetection\n",
    "\n",
    "import xmltodict\n",
    "from PIL import Image\n",
    "import numpy as np\n",
    "from tqdm import tqdm"
   ]
  },
  {
   "cell_type": "code",
   "execution_count": 51,
   "id": "c03f8fad",
   "metadata": {},
   "outputs": [],
   "source": [
    "class YOLO_PASCAL_VOC(VOCDetection):\n",
    "    def __getitem__(self, index):\n",
    "        \"\"\"\n",
    "        전처리\n",
    "        결과 : X(image), y(label)\n",
    "        \"\"\"\n",
    "        img = (Image.open(self.images[index]).convert('RGB').resize((224,224)))\n",
    "        img_transform = transforms.Compose([\n",
    "            transforms.PILToTensor(),\n",
    "            transforms.Resize((224,224))\n",
    "        ])\n",
    "        img = torch.divide(img_transform(img), 255)\n",
    "        \n",
    "        target = xmltodict.parse(open(self.annotations[index].read()))\n",
    "        \n",
    "        classes = [\"aeroplane\", \"bicycle\", \"bird\", \"boat\", \"bottle\",\n",
    "                   \"bus\", \"car\", \"cat\", \"chair\", \"cow\", \"diningtable\",\n",
    "                   \"dog\", \"horse\", \"motorbike\", \"person\", \"pottedplant\",\n",
    "                   \"sheep\", \"sofa\", \"train\", \"tvmonitor\"]\n",
    "        \n",
    "        label = np.zeros((7, 7, 25), dtype = float)\n",
    "        # 격자 구조\n",
    "        \n",
    "        Image_Height = float(target['annotation']['size']['height'])\n",
    "        Image_Width = float(target['annotation']['size']['width'])\n",
    "        \n",
    "        try:\n",
    "            for i, obj in enumerate(target['annotation']['object']):\n",
    "                if i >= 1:\n",
    "                    break\n",
    "    \n",
    "                class_index = classes.index(obj['name'].lower())\n",
    "                \n",
    "                x_min = float(obj['bndbox']['xmin']) \n",
    "                y_min = float(obj['bndbox']['ymin'])\n",
    "                x_max = float(obj['bndbox']['xmax']) \n",
    "                y_max = float(obj['bndbox']['ymax'])\n",
    "                \n",
    "                x_min = float((224.0/Image_Width)*x_min)\n",
    "                y_min = float((224.0/Image_Height)*y_min)\n",
    "                x_max = float((224.0/Image_Width)*x_max)\n",
    "                y_max = float((224.0/Image_Height)*y_max)\n",
    "                \n",
    "                x = (x_min + x_max) / 2.0\n",
    "                y = (y_min + y_max) / 2.0\n",
    "                w = x_max - x_min\n",
    "                h = y_max - y_min\n",
    "                \n",
    "                x_cell = int(x/32)\n",
    "                y_cell = int(y/32)\n",
    "                \n",
    "                x_val_inCell = float((x - x_cell * 32.0)/32.0)\n",
    "                y_val_inCell = float((y - y_cell * 32.0)/32.0)\n",
    "                \n",
    "                w = w / 224.0\n",
    "                h = h / 224.0\n",
    "                \n",
    "                \n",
    "                class_index_inCell = class_index + 5\n",
    "                \n",
    "                label[y_cell][x_cell][25 * i + 0] = x_val_inCell\n",
    "                label[y_cell][x_cell][25 * i + 1] = y_val_inCell\n",
    "                label[y_cell][x_cell][25 * i + 2] = w\n",
    "                label[y_cell][x_cell][25 * i + 3] = h\n",
    "                label[y_cell][x_cell][25 * i + 4] = 1.0\n",
    "                label[y_cell][x_cell][25 * i + class_index_inCell] = 1.0\n",
    "                \n",
    "    \n",
    "        # Single-Object in Image\n",
    "        except TypeError:\n",
    "            obj = target['annotation']['object']\n",
    "            class_index = classes.index(obj['name'].lower())\n",
    "                \n",
    "            x_min = float(obj['bndbox']['xmin']) \n",
    "            y_min = float(obj['bndbox']['ymin'])\n",
    "            x_max = float(obj['bndbox']['xmax']) \n",
    "            y_max = float(obj['bndbox']['ymax'])\n",
    "\n",
    "            x_min = float((224.0/Image_Width)*x_min)\n",
    "            y_min = float((224.0/Image_Height)*y_min)\n",
    "            x_max = float((224.0/Image_Width)*x_max)\n",
    "            y_max = float((224.0/Image_Height)*y_max)\n",
    "\n",
    "            x = (x_min + x_max)/2.0\n",
    "            y = (y_min + y_max)/2.0\n",
    "            w = x_max - x_min\n",
    "            h = y_max - y_min\n",
    "\n",
    "            x_cell = int(x/32) \n",
    "            y_cell = int(y/32) \n",
    "            x_val_inCell = float((x - x_cell * 32.0)/32.0) \n",
    "            y_val_inCell = float((y - y_cell * 32.0)/32.0)\n",
    "\n",
    "            w = w / 224.0\n",
    "            h = h / 224.0\n",
    "\n",
    "            class_index_inCell = class_index + 5\n",
    "\n",
    "            label[y_cell][x_cell][0] = x_val_inCell\n",
    "            label[y_cell][x_cell][1] = y_val_inCell\n",
    "            label[y_cell][x_cell][2] = w\n",
    "            label[y_cell][x_cell][3] = h\n",
    "            label[y_cell][x_cell][4] = 1.0\n",
    "            label[y_cell][x_cell][class_index_inCell] = 1.0\n",
    "\n",
    "        return img, torch.tensor(label)\n",
    "            "
   ]
  },
  {
   "cell_type": "code",
   "execution_count": 52,
   "id": "aed03845",
   "metadata": {},
   "outputs": [],
   "source": [
    "class YOLO(nn.Module):\n",
    "    def __init__(self, VGG16):\n",
    "        super().__init__()\n",
    "        \n",
    "        self.backbone = VGG16\n",
    "        \n",
    "        self.conv = nn.Sequential(\n",
    "            nn.BatchNorm2d(512), # in_channels\n",
    "            nn.Conv2d(in_channels = 512,out_channels = 1024, kernel_size = 3, padding = 1),\n",
    "            nn.LeakyReLU(),\n",
    "            nn.BatchNorm2d(1024),\n",
    "            nn.Conv2d(in_channels = 1024,out_channels = 1024, kernel_size = 3, padding = 1),\n",
    "            nn.LeakyReLU(),\n",
    "            nn.MaxPool2d(2),\n",
    "            nn.BatchNorm2d(1024),\n",
    "            nn.Conv2d(in_channels = 1024,out_channels = 1024, kernel_size = 3, padding = 1),\n",
    "            nn.LeakyReLU(),\n",
    "            nn.BatchNorm2d(1024),\n",
    "            nn.Conv2d(in_channels = 1024,out_channels = 1024, kernel_size = 3, padding = 1),\n",
    "            nn.LeakyReLU(),\n",
    "            nn.Flatten()\n",
    "        )\n",
    "        self.linear = nn.Sequential(\n",
    "            nn.BatchNorm1d(7*7*1024),\n",
    "            nn.Linear(7*7*1024, 4096),\n",
    "            nn.LeakyReLU(),\n",
    "            nn.Dropout(),\n",
    "            nn.BatchNorm1d(4096),\n",
    "            nn.Linear(4096, 1470)\n",
    "        )\n",
    "\n",
    "    def forward(self, x):\n",
    "        out = self.backbone(x)\n",
    "        out = self.conv(out)\n",
    "        out = self.linear(out)\n",
    "        out = torch.reshape(out, (-1 ,7, 7, 25))\n",
    "        return out"
   ]
  },
  {
   "cell_type": "code",
   "execution_count": 48,
   "id": "0b879080",
   "metadata": {},
   "outputs": [
    {
     "name": "stdout",
     "output_type": "stream",
     "text": [
      "0\n",
      "5\n",
      "5\n"
     ]
    }
   ],
   "source": [
    "def yolo_multitask_loss(y_pred, y_true):\n",
    "    bath_loss = 0\n",
    "    \n",
    "    count = len(y_true)\n",
    "    for i in range(0, count):\n",
    "        y_true_unit = y_true[i].clone().detach().requires_gred_(True)\n",
    "        y_pred\n",
    "        "
   ]
  },
  {
   "cell_type": "code",
   "execution_count": 22,
   "id": "539ac108",
   "metadata": {},
   "outputs": [
    {
     "name": "stdout",
     "output_type": "stream",
     "text": [
      "-1\n"
     ]
    }
   ],
   "source": [
    "lst = ['a', 'b', 'c']\n",
    "\n",
    "try:\n",
    "    lst.index('z')\n",
    "except ValueError as e:\n",
    "    pass"
   ]
  },
  {
   "cell_type": "code",
   "execution_count": 11,
   "id": "88af9d48",
   "metadata": {},
   "outputs": [
    {
     "data": {
      "text/plain": [
       "'helo'"
      ]
     },
     "execution_count": 11,
     "metadata": {},
     "output_type": "execute_result"
    }
   ],
   "source": [
    "obj = {\n",
    "    'name': '윤영로',\n",
    "    'age': 24,\n",
    "    'annotations': {\n",
    "        'type': 'helo'\n",
    "    }\n",
    "}\n",
    "obj['annotations']['type']\n",
    "\n",
    "cell = [0, 1] x [0, 1]"
   ]
  },
  {
   "cell_type": "code",
   "execution_count": 42,
   "id": "d0c05e50",
   "metadata": {},
   "outputs": [
    {
     "data": {
      "text/plain": [
       "True"
      ]
     },
     "execution_count": 42,
     "metadata": {},
     "output_type": "execute_result"
    }
   ],
   "source": [
    "'a' == 'A'.lower()"
   ]
  }
 ],
 "metadata": {
  "kernelspec": {
   "display_name": "Python 3 (ipykernel)",
   "language": "python",
   "name": "python3"
  },
  "language_info": {
   "codemirror_mode": {
    "name": "ipython",
    "version": 3
   },
   "file_extension": ".py",
   "mimetype": "text/x-python",
   "name": "python",
   "nbconvert_exporter": "python",
   "pygments_lexer": "ipython3",
   "version": "3.10.5"
  }
 },
 "nbformat": 4,
 "nbformat_minor": 5
}
