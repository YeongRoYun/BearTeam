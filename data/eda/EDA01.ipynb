{
  "nbformat": 4,
  "nbformat_minor": 0,
  "metadata": {
    "colab": {
      "name": "EDA01.ipynb",
      "provenance": [],
      "collapsed_sections": [],
      "authorship_tag": "ABX9TyPZS1hDZL2Bw2Z6x3e4SmEB",
      "include_colab_link": true
    },
    "kernelspec": {
      "name": "python3",
      "display_name": "Python 3"
    },
    "language_info": {
      "name": "python"
    }
  },
  "cells": [
    {
      "cell_type": "markdown",
      "metadata": {
        "id": "view-in-github",
        "colab_type": "text"
      },
      "source": [
        "<a href=\"https://colab.research.google.com/github/YeongRoYun/BearTeam/blob/yyr-dev-data-eda/data/eda/EDA01.ipynb\" target=\"_parent\"><img src=\"https://colab.research.google.com/assets/colab-badge.svg\" alt=\"Open In Colab\"/></a>"
      ]
    },
    {
      "cell_type": "markdown",
      "source": [
        "# AI-HUB Dataset EDA\n",
        "> ` https://www.aihub.or.kr/aihubdata/data/view.do?currMenu=115&topMenu=100&aihubDataSe=realm&dataSetSn=629`\n"
      ],
      "metadata": {
        "id": "0YEsWNcZsdAY"
      }
    },
    {
      "cell_type": "code",
      "source": [
        "import os\n",
        "basePath = os.getcwd()\n",
        "dataPath = basePath + '/data'\n",
        "\n",
        "if not os.path.exists(dataPath):\n",
        "  os.makedirs(dataPath, exist_ok=True)"
      ],
      "metadata": {
        "id": "i5bLX3lXq-iB"
      },
      "execution_count": null,
      "outputs": []
    },
    {
      "cell_type": "code",
      "execution_count": null,
      "metadata": {
        "id": "nYYuPb2Oqqn1"
      },
      "outputs": [],
      "source": [
        "import matplotlib.pyplot as plt\n",
        "import pandas as pd\n",
        "import numpy as np\n",
        "import json"
      ]
    },
    {
      "cell_type": "markdown",
      "source": [
        "## 파일구조 확인하기\n",
        "- Raw Image와 동일한 폴더 구조에 각 Image의 Annotation JSON File이 위치한다.\n",
        "- File Structure\n",
        "\n",
        "```\n",
        "1.Training/2.Validation\n",
        "   |\n",
        "   | ---- Annotations(라벨링데이터)/Raws(원천데이터)\n",
        "                |\n",
        "                | ---- BoundingBox(...2D BB)\n",
        "                          |\n",
        "                          | --- 1.Day(주간)/2.Night(야간)\n",
        "                                    |\n",
        "                                    | ---- 1.Sun(맑음)/2.Rain(비)/3.Snow(눈)\n",
        "                                                    |\n",
        "                                                    | ---- 1. OldTown(구도심)\n",
        "                                                    | ---- 2. NewTown(신도심)\n",
        "                                                    | ---- 3. Alley(골목)\n",
        "                                                    | ---- 4. Country(시골길)\n",
        "                                                    | ---- 5. Mountain(산길)\n",
        "                                                    | ---- 6. Coastal(해안도로)\n",
        "                                                    | ---- 7. Highway(고속도로)\n",
        "                                                    | ---- 8. Motorway(자동차전용)\n",
        "                                                        |\n",
        "                                                        | dates(yyyymmdd_hhmm)\n",
        "                                                            |-- Camera\n",
        "                                                              |\n",
        "                                                              | -- front\n",
        "                                                              | -- left\n",
        "                                                              | -- rear\n",
        "                                                              | -- right\n",
        "                                                              | -- stereo_l\n",
        "                                                              | -- stereo_r\n",
        "```\n",
        "- 데이터셋은 위의 파일 구조 형태를 공유한다.\n",
        "\n",
        "## 파일구조 통일시키기\n",
        "- 한글과 영어가 혼용된 파일명을 영어로 일관되게 통일시킨다.\n",
        "- 예시: `주간 -> Day, 맑음 -> Sun`\n",
        "\n",
        "> Annotation data로 Formating을 검증한다."
      ],
      "metadata": {
        "id": "9KG24rjitW4f"
      }
    },
    {
      "cell_type": "code",
      "source": [
        "import zipfile\n",
        "zipPath = dataPath + '/dataset.zip'\n",
        "\n",
        "datasetZip = zipfile.ZipExtFile(zipPath)"
      ],
      "metadata": {
        "id": "K0p-WziCtUr6"
      },
      "execution_count": null,
      "outputs": []
    }
  ]
}