{
  "nbformat": 4,
  "nbformat_minor": 0,
  "metadata": {
    "colab": {
      "name": "COCO_Converter.ipynb",
      "provenance": [],
      "collapsed_sections": [],
      "authorship_tag": "ABX9TyP4yz3Fnk8tMValB7IXy4wq",
      "include_colab_link": true
    },
    "kernelspec": {
      "name": "python3",
      "display_name": "Python 3"
    },
    "language_info": {
      "name": "python"
    }
  },
  "cells": [
    {
      "cell_type": "markdown",
      "metadata": {
        "id": "view-in-github",
        "colab_type": "text"
      },
      "source": [
        "<a href=\"https://colab.research.google.com/github/YeongRoYun/BearTeam/blob/dev/data/COCO_Converter.ipynb\" target=\"_parent\"><img src=\"https://colab.research.google.com/assets/colab-badge.svg\" alt=\"Open In Colab\"/></a>"
      ]
    },
    {
      "cell_type": "markdown",
      "source": [
        "https://www.aihub.or.kr/aihubdata/data/view.do?currMenu=115&topMenu=100&aihubDataSe=realm&dataSetSn=614\n",
        "\n",
        "위의 형식을 COCO Format으로 재구성합니다.\n",
        "\n",
        "```\n",
        "{\n",
        "\"info\": info, \"images\": [image], \"annotations\": [annotation], \"licenses\": [license],\n",
        "}\n",
        "\n",
        "info{\n",
        "\"year\": int, \"version\": str, \"description\": str, \"contributor\": str, \"url\": str, \"date_created\": datetime,\n",
        "}\n",
        "\n",
        "image{\n",
        "\"id\": int, \"width\": int, \"height\": int, \"file_name\": str, \"license\": int, \"flickr_url\": str, \"coco_url\": str, \"date_captured\": datetime,\n",
        "}\n",
        "\n",
        "license{\n",
        "\"id\": int, \"name\": str, \"url\": str,\n",
        "}\n",
        "```\n",
        "\n",
        "```\n",
        "annotation{\n",
        "\"id\": int, \"image_id\": int, \"category_id\": int, \"segmentation\": RLE or [polygon], \"area\": float, \"bbox\": [x,y,width,height], \"iscrowd\": 0 or 1,\n",
        "}\n",
        "\n",
        "categories[{\n",
        "\"id\": int, \"name\": str, \"supercategory\": str,\n",
        "}]\n",
        "```"
      ],
      "metadata": {
        "id": "V21JxCy1erSk"
      }
    },
    {
      "cell_type": "code",
      "execution_count": 1,
      "metadata": {
        "colab": {
          "base_uri": "https://localhost:8080/"
        },
        "id": "QvHlvP6Fen7o",
        "outputId": "15365e52-47ee-4594-9b88-bb88e8aca24c"
      },
      "outputs": [
        {
          "output_type": "stream",
          "name": "stdout",
          "text": [
            "Mounted at /content/drive\n"
          ]
        }
      ],
      "source": [
        "import os\n",
        "from google.colab import drive\n",
        "\n",
        "drive.mount('/content/drive')"
      ]
    },
    {
      "cell_type": "code",
      "source": [
        "import re\n",
        "import json\n",
        "from pathlib import Path"
      ],
      "metadata": {
        "id": "Mhku53offEPH"
      },
      "execution_count": 15,
      "outputs": []
    },
    {
      "cell_type": "markdown",
      "source": [
        "## PM을 자전거, 오토바이, 킥보드로 카테고리 변경"
      ],
      "metadata": {
        "id": "VU9ICUS6fcoC"
      }
    },
    {
      "cell_type": "code",
      "source": [
        "from enum import Enum, auto\n",
        "from collections import defaultdict\n",
        "class Category(Enum):\n",
        "    BICYCLE = auto()\n",
        "    MOTORCYCLE = auto()\n",
        "    KICKBOARD = auto()\n",
        "\n",
        "    def __str__(self):\n",
        "        if self == Category.BICYCLE:\n",
        "            return 'bicycle'\n",
        "        elif self == Category.MOTORCYCLE:\n",
        "            return 'motorcycle'\n",
        "        elif self == Category.KICKBOARD:\n",
        "            return 'kickboard'\n",
        "        else:\n",
        "            return 'Not defined'\n",
        "    \n",
        "    def __int__(self):\n",
        "        if self == Category.BICYCLE:\n",
        "            return 0\n",
        "        elif self == Category.MOTORCYCLE:\n",
        "            return 1\n",
        "        elif self == Category.KICKBOARD:\n",
        "            return 2\n",
        "        else:\n",
        "            return -1\n",
        "\n",
        "# 1 - 21로 나뉜다.\n",
        "PMs = [\n",
        "    Category.MOTORCYCLE,\n",
        "    Category.BICYCLE,\n",
        "    Category.KICKBOARD,\n",
        "    Category.KICKBOARD,\n",
        "    Category.MOTORCYCLE,\n",
        "    Category.BICYCLE,\n",
        "    Category.KICKBOARD,\n",
        "    Category.MOTORCYCLE,\n",
        "    Category.BICYCLE,\n",
        "    Category.KICKBOARD,\n",
        "    Category.MOTORCYCLE,\n",
        "    Category.BICYCLE,\n",
        "    Category.KICKBOARD,\n",
        "    Category.MOTORCYCLE,\n",
        "    Category.BICYCLE,\n",
        "    Category.KICKBOARD,\n",
        "    Category.MOTORCYCLE,\n",
        "    Category.BICYCLE,\n",
        "    Category.MOTORCYCLE,\n",
        "    Category.BICYCLE,\n",
        "    Category.KICKBOARD,\n",
        "]\n",
        "\n",
        "PMtoCategory = defaultdict(list)\n",
        "\n",
        "for idx, pm in enumerate(PMs):\n",
        "    PMtoCategory[pm].append(idx + 1)\n",
        "\n",
        "print(PMtoCategory)"
      ],
      "metadata": {
        "colab": {
          "base_uri": "https://localhost:8080/"
        },
        "id": "E6hXZaLmgCPg",
        "outputId": "77751943-ee46-4545-8d0a-1e3b26359200"
      },
      "execution_count": 11,
      "outputs": [
        {
          "output_type": "stream",
          "name": "stdout",
          "text": [
            "defaultdict(<class 'list'>, {<Category.MOTORCYCLE: 2>: [1, 5, 8, 11, 14, 17, 19], <Category.BICYCLE: 1>: [2, 6, 9, 12, 15, 18, 20], <Category.KICKBOARD: 3>: [3, 4, 7, 10, 13, 16, 21]})\n"
          ]
        }
      ]
    },
    {
      "cell_type": "markdown",
      "source": [
        "## Image와 Annotation 연결하기\n",
        "\n",
        "- Annotation Format\n",
        "```\n",
        "\"info\": {\n",
        "    \"video_id\": \"T006075\",\n",
        "    \"clip_id\": \"001\",\n",
        "    \"device\": \"B\",\n",
        "    \"time\": \"D\",\n",
        "    \"weather\": \"F\",\n",
        "    \"is_scripted\": \"0\"\n",
        "},\n",
        "\"description\": {\n",
        "    \"frame_id\": \"0126\",\n",
        "    \"imageWidth\": 1920,\n",
        "    \"imageHeight\": 1080\n",
        "},\n",
        "```\n",
        "- Image name\n",
        "```\n",
        "T006075_001_0126_B_D_F_0.jpg\n",
        "```"
      ],
      "metadata": {
        "id": "nYkbRoimlg8m"
      }
    },
    {
      "cell_type": "code",
      "source": [
        "def get_img_name(annoPath):\n",
        "    \"\"\"\n",
        "    Annotation path 넣기!\n",
        "    \"\"\"\n",
        "    assert os.path.exists(annoPath)\n",
        "\n",
        "    fd = open(annoPath, 'r')\n",
        "    anno = json.load(fd)\n",
        "\n",
        "\n",
        "    chunks = [anno['info']['video_id'], anno['info']['clip_id'],\n",
        "              anno['description']['frame_id'], anno['info']['device'],\n",
        "              anno['info']['time'], anno['info']['weather'],\n",
        "              anno['info']['is_scripted'],]\n",
        "    return '_'.join(chunks) + '.jpg'\n",
        "\n",
        "\n",
        "def test():\n",
        "    annoPath = Path('/content') / 'sample.json'\n",
        "    assert get_img_name(annoPath) == 'T006075_001_0126_B_D_F_0.jpg'\n",
        "    return True\n",
        "\n",
        "test()"
      ],
      "metadata": {
        "colab": {
          "base_uri": "https://localhost:8080/"
        },
        "id": "azq68N2IlWdx",
        "outputId": "12d941ca-f5c6-489f-b994-f0294f0fb0d9"
      },
      "execution_count": 45,
      "outputs": [
        {
          "output_type": "execute_result",
          "data": {
            "text/plain": [
              "True"
            ]
          },
          "metadata": {},
          "execution_count": 45
        }
      ]
    },
    {
      "cell_type": "markdown",
      "source": [
        "## Info 채우기"
      ],
      "metadata": {
        "id": "Ul1e3ExvpMa8"
      }
    },
    {
      "cell_type": "code",
      "source": [
        "from datetime import datetime\n",
        "\n",
        "annoPath = Path('/content') / 'sample.json'\n",
        "assert os.path.exists(annoPath)\n",
        "fd = open(annoPath, 'r')\n",
        "anno = json.load(fd)\n",
        "\n",
        "info = {\n",
        "    \"year\": anno['info'].get('date', '19990308'), \n",
        "    \"version\": '0.0.1', \n",
        "    \"description\": 'Created by AI-HUB', \n",
        "    \"contributor\": 'BearTeam', \n",
        "    \"url\": 'https://www.aihub.or.kr/aihubdata/data/view.do?currMenu=115&topMenu=100&aihubDataSe=realm&dataSetSn=614', \n",
        "    \"date_created\": str(datetime.now())\n",
        "}\n",
        "print(info)"
      ],
      "metadata": {
        "colab": {
          "base_uri": "https://localhost:8080/"
        },
        "id": "frhuSqkzo__G",
        "outputId": "2b84051d-cd21-4834-c5de-0b5b98df152c"
      },
      "execution_count": 43,
      "outputs": [
        {
          "output_type": "stream",
          "name": "stdout",
          "text": [
            "{'year': '19990308', 'version': '0.0.1', 'description': 'Created by AI-HUB', 'contributor': 'BearTeam', 'url': 'https://www.aihub.or.kr/aihubdata/data/view.do?currMenu=115&topMenu=100&aihubDataSe=realm&dataSetSn=614', 'date_created': '2022-08-19 05:57:56.900273'}\n"
          ]
        }
      ]
    },
    {
      "cell_type": "markdown",
      "source": [
        "## image 채우기"
      ],
      "metadata": {
        "id": "AAVfvHEprg99"
      }
    },
    {
      "cell_type": "code",
      "source": [
        "def get_img_id_wrapper():\n",
        "    id = 0\n",
        "    def get_img_id():\n",
        "        nonlocal id\n",
        "        tmp = id\n",
        "        id += 1\n",
        "        return tmp\n",
        "    return get_img_id\n",
        "\n",
        "get_img_id = get_img_id_wrapper()\n",
        "\n",
        "width = anno['description']['imageWidth']\n",
        "height = anno['description']['imageHeight']\n",
        "\n",
        "fileName = get_img_name(annoPath)\n",
        "license = 0\n",
        "date_captured = anno['info'].get('date', '19990308')\n",
        "\n",
        "\n",
        "def get_image(annoPath, get_img_id):\n",
        "    assert annoPath\n",
        "    with open(annoPath, 'r') as fd:\n",
        "        anno = json.load(fd)\n",
        "        width = anno['description']['imageWidth']\n",
        "        height = anno['description']['imageHeight']\n",
        "        fileName = get_img_name(annoPath)\n",
        "        dateCaptured = anno['info'].get('date', '19990308')\n",
        "        return {\n",
        "            \"id\": get_img_id(), \n",
        "            \"width\": width, \n",
        "            \"height\": height, \n",
        "            \"file_name\": fileName, \n",
        "            \"license\": 0, \n",
        "            \"flickr_url\": '', \n",
        "            \"coco_url\": '', \n",
        "            \"date_captured\": dateCaptured,\n",
        "        }\n",
        "\n",
        "\n",
        "get_image(annoPath, get_img_id)"
      ],
      "metadata": {
        "colab": {
          "base_uri": "https://localhost:8080/"
        },
        "id": "9EEm4B62rjSX",
        "outputId": "61eae820-5a6c-4302-bf9a-c8894ef59e95"
      },
      "execution_count": 88,
      "outputs": [
        {
          "output_type": "execute_result",
          "data": {
            "text/plain": [
              "{'id': 1,\n",
              " 'width': 1920,\n",
              " 'height': 1080,\n",
              " 'file_name': 'T006075_001_0126_B_D_F_0.jpg',\n",
              " 'license': 0,\n",
              " 'flickr_url': '',\n",
              " 'coco_url': '',\n",
              " 'date_captured': '19990308'}"
            ]
          },
          "metadata": {},
          "execution_count": 88
        }
      ]
    },
    {
      "cell_type": "markdown",
      "source": [
        "## License 채우기"
      ],
      "metadata": {
        "id": "P7uPHiq0zZS0"
      }
    },
    {
      "cell_type": "code",
      "source": [
        "license = {\n",
        "    'id': 0,\n",
        "    'name': 'aihub',\n",
        "    'url': 'https://www.aihub.or.kr/intrcn/guid/usagepolicy.do?currMenu=151&topMenu=105'\n",
        "}"
      ],
      "metadata": {
        "colab": {
          "base_uri": "https://localhost:8080/"
        },
        "id": "hMtfozuBt3u7",
        "outputId": "16c5ff48-02e3-4b73-9b5d-73c314ce018d"
      },
      "execution_count": 62,
      "outputs": [
        {
          "output_type": "execute_result",
          "data": {
            "text/plain": [
              "97"
            ]
          },
          "metadata": {},
          "execution_count": 62
        }
      ]
    },
    {
      "cell_type": "markdown",
      "source": [
        "## BBOX"
      ],
      "metadata": {
        "id": "ODSuoPy40pGG"
      }
    },
    {
      "cell_type": "code",
      "source": [
        "PMtoCategory\n",
        "int(Category.BICYCLE)\n",
        "print(str(Category.BICYCLE))\n",
        "iscrowd = 0"
      ],
      "metadata": {
        "colab": {
          "base_uri": "https://localhost:8080/"
        },
        "id": "zRQAfn5s0rEb",
        "outputId": "76bb44e3-adb3-47a3-9bbf-2af6d49c2766"
      },
      "execution_count": 92,
      "outputs": [
        {
          "output_type": "stream",
          "name": "stdout",
          "text": [
            "bicycle\n"
          ]
        }
      ]
    }
  ]
}