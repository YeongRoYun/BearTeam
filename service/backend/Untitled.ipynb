{
 "cells": [
  {
   "cell_type": "code",
   "execution_count": 15,
   "id": "2ec4ea70",
   "metadata": {},
   "outputs": [],
   "source": [
    "import sched, time\n",
    "from functools import partial, wraps\n",
    "scheduler = sched.scheduler(time.time, time.sleep)\n",
    "\n",
    "def set_period(*, f=None, scheduler:sched.scheduler = None, start:float = 0, period:float = 0.5, end:float = None):\n",
    "    \"\"\"\n",
    "    start : 상대시간으로 시작 시점\n",
    "    period: 절대시간으로 반복 구간\n",
    "    end   : None이면 계속 돌기, 상대시간으로 종료 시점\n",
    "    \"\"\"\n",
    "    if f == None:\n",
    "        return partial(set_period, scheduler=scheduler, dstart=start, period=period, end=end)\n",
    "    elif scheduler == None:\n",
    "        raise \n",
    "        @wraps(f)\n",
    "        def inner(*args, **kwargs):\n",
    "            "
   ]
  },
  {
   "cell_type": "code",
   "execution_count": 16,
   "id": "8675f56d",
   "metadata": {},
   "outputs": [
    {
     "data": {
      "text/plain": [
       "<sched.scheduler at 0x106012440>"
      ]
     },
     "execution_count": 16,
     "metadata": {},
     "output_type": "execute_result"
    }
   ],
   "source": [
    "Object()"
   ]
  },
  {
   "cell_type": "code",
   "execution_count": 20,
   "id": "7c793484",
   "metadata": {},
   "outputs": [],
   "source": [
    "def f(s):\n",
    "    s.enter(0, 1, None)\n",
    "\n",
    "f(scheduler)"
   ]
  },
  {
   "cell_type": "code",
   "execution_count": 22,
   "id": "96f1c722",
   "metadata": {},
   "outputs": [
    {
     "data": {
      "text/plain": [
       "{'asdf': 123}"
      ]
     },
     "execution_count": 22,
     "metadata": {},
     "output_type": "execute_result"
    }
   ],
   "source": [
    "class Object(BaseModel):\n",
    "    \"\"\"\n",
    "    Detectable Object Model\n",
    "    All values are relative coordinates nomalized in [0.0, 1.0]\n",
    "    Probability is the probs of predction\n",
    "    \"\"\"\n",
    "    category: ObjectCategory\n",
    "    probability: float\n",
    "    center: Tuple[float, float]\n",
    "    width : float\n",
    "    height: float\n",
    "    risk  : RiskCategory\n",
    "        \n",
    "        \n",
    "Object(category = ObjectCategory.BICYCLE, probabail = 3, center = [], width = 123, height = 123, risk= None)\n",
    "\n",
    "{\n",
    "    \"category\" : 1\n",
    "    \"probability\" : 0.3,\n",
    "    \"width\" : 123,\n",
    "    \"height\" : 123,\n",
    "    \"risk\" : None\n",
    "}"
   ]
  }
 ],
 "metadata": {
  "kernelspec": {
   "display_name": "Python 3 (ipykernel)",
   "language": "python",
   "name": "python3"
  },
  "language_info": {
   "codemirror_mode": {
    "name": "ipython",
    "version": 3
   },
   "file_extension": ".py",
   "mimetype": "text/x-python",
   "name": "python",
   "nbconvert_exporter": "python",
   "pygments_lexer": "ipython3",
   "version": "3.10.5"
  }
 },
 "nbformat": 4,
 "nbformat_minor": 5
}
